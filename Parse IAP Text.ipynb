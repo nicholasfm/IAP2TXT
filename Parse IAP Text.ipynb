{
 "cells": [
  {
   "cell_type": "code",
   "execution_count": 13,
   "metadata": {},
   "outputs": [],
   "source": [
    "import os\n",
    "#import urllib\n",
    "import re\n",
    "import pandas as pd\n",
    "from glob import glob"
   ]
  },
  {
   "cell_type": "code",
   "execution_count": 2,
   "metadata": {},
   "outputs": [],
   "source": [
    "local_IAP_dir = './IAPs/norcal/incidents/'"
   ]
  },
  {
   "cell_type": "code",
   "execution_count": 5,
   "metadata": {},
   "outputs": [],
   "source": [
    "def get_local_IAPs(local_IAP_dir,suffix_pattern='*.pdf'):\n",
    "    available_IAPs = []\n",
    "    for incident in glob(os.path.join(local_IAP_dir,'*')):\n",
    "        for incident_date in glob(os.path.join(incident,'*')):\n",
    "            available_IAPs.extend(glob(os.path.join(incident_date,suffix_pattern)))\n",
    "    return available_IAPs"
   ]
  },
  {
   "cell_type": "code",
   "execution_count": 20,
   "metadata": {},
   "outputs": [],
   "source": [
    "IAPs_raw = get_local_IAPs(local_IAP_dir,suffix_pattern='*.txt')"
   ]
  },
  {
   "cell_type": "code",
   "execution_count": 21,
   "metadata": {},
   "outputs": [
    {
     "data": {
      "text/plain": [
       "['./IAPs/norcal/incidents/CA-LNU-009502_County/07-04-2018/COUNTY_IAP_07-04-18.txt',\n",
       " './IAPs/norcal/incidents/CA-LNU-019376_Kincade/10-25-2019/IAP_KINCADE_10252019.txt']"
      ]
     },
     "execution_count": 21,
     "metadata": {},
     "output_type": "execute_result"
    }
   ],
   "source": [
    "IAPs_raw = "
   ]
  },
  {
   "cell_type": "code",
   "execution_count": 35,
   "metadata": {},
   "outputs": [],
   "source": [
    "IAP_path = IAPs_raw[0]"
   ]
  },
  {
   "cell_type": "code",
   "execution_count": 22,
   "metadata": {},
   "outputs": [
    {
     "ename": "IsADirectoryError",
     "evalue": "[Errno 21] Is a directory: '.'",
     "output_type": "error",
     "traceback": [
      "\u001b[0;31m---------------------------------------------------------------------------\u001b[0m",
      "\u001b[0;31mIsADirectoryError\u001b[0m                         Traceback (most recent call last)",
      "\u001b[0;32m<ipython-input-22-fae06327f52b>\u001b[0m in \u001b[0;36m<module>\u001b[0;34m\u001b[0m\n\u001b[1;32m      1\u001b[0m \u001b[0;32mfor\u001b[0m \u001b[0mIAP_path\u001b[0m \u001b[0;32min\u001b[0m \u001b[0mIAPs_raw\u001b[0m\u001b[0;34m[\u001b[0m\u001b[0;36m1\u001b[0m\u001b[0;34m]\u001b[0m\u001b[0;34m:\u001b[0m\u001b[0;34m\u001b[0m\u001b[0;34m\u001b[0m\u001b[0m\n\u001b[0;32m----> 2\u001b[0;31m     \u001b[0;32mwith\u001b[0m \u001b[0mopen\u001b[0m\u001b[0;34m(\u001b[0m\u001b[0mIAP_path\u001b[0m\u001b[0;34m)\u001b[0m \u001b[0;32mas\u001b[0m \u001b[0mfile\u001b[0m\u001b[0;34m:\u001b[0m\u001b[0;34m\u001b[0m\u001b[0;34m\u001b[0m\u001b[0m\n\u001b[0m\u001b[1;32m      3\u001b[0m         \u001b[0mfile_contents\u001b[0m \u001b[0;34m=\u001b[0m \u001b[0mfile\u001b[0m\u001b[0;34m.\u001b[0m\u001b[0mread\u001b[0m\u001b[0;34m(\u001b[0m\u001b[0;34m)\u001b[0m\u001b[0;34m\u001b[0m\u001b[0;34m\u001b[0m\u001b[0m\n",
      "\u001b[0;31mIsADirectoryError\u001b[0m: [Errno 21] Is a directory: '.'"
     ]
    }
   ],
   "source": [
    "IAP_DF = pd.DataFrame({'Incident_code':[],'Operational_Period':[],'Control Objective':[]})\n",
    "\n",
    "for IAP_path in IAPs_raw:\n",
    "    with open(IAP_path) as file:\n",
    "        file_contents = file.read()\n",
    "        this_IAP_DF = pd.DataFrame({'Incident_code':[],'Operational_Period':[],'Control Objective':[]})\n",
    "        this_IAP_DF['Control Objective'] = file_contents.split('Control Objectives')[1].split('General Situational Awareness')[0].split('\\n')\n",
    "        incident_dir, this_IAP_DF['Operational_Period'] = os.path.split(os.path.dirname(IAP_path))\n",
    "        this_IAP_DF['Incident_code'] = os.path.split(incident_dir)[1]\n",
    "        \n",
    "        IAP_DF = IAP_DF.append(this_IAP_DF)"
   ]
  },
  {
   "cell_type": "code",
   "execution_count": 26,
   "metadata": {},
   "outputs": [],
   "source": [
    "with open(IAPs_raw[0]) as file:\n",
    "        file_contents = file.read()"
   ]
  },
  {
   "cell_type": "code",
   "execution_count": 27,
   "metadata": {},
   "outputs": [
    {
     "data": {
      "text/plain": [
       "\"COUNTY\\n\\nINCIDENT\\nCA-LNU-009502\\n\\nINCIDENT ACTION PLAN\\n\\n  \\n\\nOPERATIONAL PERIOD\\n07/04/18 0700\\n\\nto\\n07/05/18 0700THIS PAGE INTENTIONALLY LEFT BLANKINCIDENT OBJECTIVES (ICS 202)\\n\\n1. Incident Name: 2. Operational Period: Date From: 07/04/18 Date To: 07/05/18\\nCOUNTY Time From: 0700 Time To: 0700\\n\\n3. Objective(s);:\\nStrategic Objectives\\n\\n \\n\\n     \\n   \\n  \\n\\n  \\n\\nA full suppression strategy is to be implemented on the County Incident. Values at risk associated to the incident include human safety, private\\nproperty and associated improvements, electrical power infrastructure, and cultural values. Minimize acres burned on all lands by utilizing effective\\nand efficient tactics while maintaining safety first.\\n\\n \\n   \\n   \\n   \\n\\nLeaders Intent\\n\\n  \\n\\nWork effectively with cooperative partners towards a common goal of protecting values in a safe and efficient manner. All incident assigned\\npersonnel should be prepared to take the appropriate actions regarding:\\n\\nProfessional behavior, conduct timely/effective communications\\n\\nPersonal safety and safety of others, including driving slowly, safely and defensively\\n\\nImplementation of tactics that offer a high probability of success\\nManage fatigue by taking breaks and maintaining work/rest cycles\\n\\n \\n   \\n     \\n     \\n \\n\\nManagement Objectives\\n\\n  \\n\\n- Fight fire aggressively while maintaining safe work practices to minimize threats to the public and emergency responders\\n~ Minimize damage to structures, private property and other improvements in the fire area\\n\\n~ Protect natural, cultural, heritage resources\\n\\n~ Continue to foster and maintain positive relationships with all local cooperators and stakeholders\\n\\n~ Provide timely and accurate incident information\\n\\n- Maintain fiscal accountability keeping costs commensurate with values at risk\\n\\n \\n   \\n        \\n     \\n \\n\\nControl Objectives\\n\\n- Keep the fire South of Hamilton Canyon\\n- Keep the fire North of Miller Canyon\\n- Keep the fire East of Knoxville Road\\n- Keep the fire West of Highway 16\\n\\n \\n        \\n \\n\\nGeneral Situational Awareness:\\n\\n  \\n     \\n\\nSteep and rugged terrain, critically dry and receptive fuel beds, active area for fire history and drought stressed trees.\\n\\n  \\n\\nStop, Think, Organize, Proceed\\n\\n§. Site Safety Plan Required? YesO Now\\nApproved Site Safety Plan(s) Located at:\\n6. Incident Action Plan\\nICS 203 ICS 204 Training Message Fire Suppression Repair Plan\\nWeather Forecast ICS 220 Demob Message Archeology Message\\nFire Behavior ICS 205 PIO Message Facilities Map\\nSafety Message ICS 205A Finance Message ICS 214\\n\\nICS 215A ICS 206 Water Usage Report Firing Plan Checklist\\n\\n7. Prepared By: Shannon Johnson Position/Title: PSC (T) Signature:\\n\\n8. Approved by Incident Commander: Billy See Signature:\\nICS 202ORGANIZATION ASSIGNMENT LIST (ICS 203)\\n\\n1. Incident Name: 2. Operational Period: Date From: 07/04/18 Date To: 07/05/18\\nCOUNTY Time From: 0700 Time To: 0700\\n\\n3. Incident Commander(s) and Command Staff:\\nIC/UC's|B. See\\nDeputy|N. Truax /D. Carreiro (T) | Deputy|M.Brunton\\n\\nSafety Officer|D. Sargenti G. Casario\\nInformation Officer}M. Smith / D. Olson it hin. =>.) ny\\nLiaison Officer| S. Barney\\n\\n<=\\n\\nBran\\nDivision/Grou\\n\\noO\\n\\nG. Tingley Division/Group\\nC. Vaughn Division/Group\\nD. Carey | Branch] svi SNS = |\\n\\na ee\\nLE Liaison Officers} J. Jared Division/Group | = GSsté‘<ié‘~*@ANC Aeron sts—‘—sSCSCid\\nDivisioGroup] =D. Tieso\\nName Branch] IV |M.Higgins/J.Buchmeier(T)\\nCAL FIRE Agency Admin.|S. Jones Division/Group | == G_~—s—sés@Y A Leconard /J.Fracchia(T)\\nCAL FIRE LNU Line Officer |B. Biermann Division/Group | = oHH~“‘iW@‘!YC“URRQS i i ss—<—sCSCiSY\\nDivisiowGroup] | ]MeJohnson (12h)\\nCDCR . Auzzene | _Division/Group} J Gray\\nL E. Panbaker Seg Gh eV | A Ss\\n\\nPe\\n\\n7A\\n\\nPa Se\\n\\nMA\\\\iz2z\\\\i<ji<iciow QO >\\nFigalioiogin > ©\\naisic|oinis m~ ®\\n= oO10|7 oO\\nSi9l6le = g\\nQiwiclic wo Oo\\nojfisis >\\ne\\\\2\\\\2/2 Z\\n<1n|/O\\\\2 >.\\n|G|@}O 5\\nO}° 5\\nSs\\nae\\n°\\nw\\n°\\n\\nCc\\nIV\\nJ\\n\\nVi\\nV\\nY\\nZ\\n\\nDivision/Group] S| Smith\\nDivisionGroup] VV TeLeague\\nccc Cortez Division/Group\\nG. Frederickson Branch} XL Turmann\\nCNG R. Cansimbe Division/Group (see\\nDivisionGroup] YP\\nPose IR Cone | visionvGroup| Z|\\n. Johnson (T) Division/Group ee Hy J. Macomb\\n_ DeBenedet (T)\\n: Plata / R. Scott (T) | DivisiowGroup} |\\n. Tuggle / R. DeCamp a eee ST ae\\nee\\n\\nt\\nDocumentation Unit\\nDemobilization Unit\\n\\nA. Klem\\nJ. Chase\\n. Heggie\\n\\n. Tompkin Division/Group\\n\\nVoyson (T) Division/Group io if\\n\\nFBAN\\nIMET\\nTraining Tech Spec\\n\\nCrew Techs Division/Group See\\n\\n- Logistics Section Air Operations Branch _———[Director: [M.Stanford\\nChief|R. Tovar\\n\\nDeputy | _——CHelibase Manager|K.Kalisek 00\\n\\nSupply Unit| J. Beckman\\n\\nB. Breese Chief\\nS. Langston\\n|___Hired Equipment Tech| A. Whitlock\\nM. Lathrop\\nK. Yeary\\nComp/Claims Unit]S. Baptista\\n\\nPrepared By: Name: Steve DeBenedet (T) Position/Title: DPSC Signature:\\n\\n \\n\\nICS 203 Date/Time: 7/3/2018 2300 hoursCounty Fire Incident Weather Forecast\\n\\n \\n\\nFORECAST NO: 3 D/N NAME OF FIRE: County Fire\\nPREDICTION FOR: Wednesday - 24 Hour Shift UNIT: LNU\\n\\nSHIFT DATE: July 4, 2018 Incident Meteorologist: _Jeff Tonkin\\nFORECAST ISSUED: 2000 PDT July 3, 2018 ee f so at\\n\\nec ws wb tw ev ee ow ce em om om ee ewe en es ee a ne es ee ee nS ee a ee eh se em ee OO re me a San tee fa tS Se nS SOD ED OD GD OO OD OO CU OE am Ey ee OS OS OY es EER EP EF GS RE EP RS NS DED ED EDEN ERD.\\n\\nWEATHER DISCUSSION: An upper trough of low pressure will approach the north coast\\nmaintaining onshore flow and a marine influence to the fire area today. Cool temperatures and\\nhigher relative humidity values will continue before returning to much lower daytime and\\nnighttime RH’s as well as warmer temperatures on Thursday. The trough will also usher in a\\nmore general south and southwest wind flow over the fire area but strong winds are not\\nexpected. A more significant rise in temperature and drop in both daytime and nighttime\\nhumidity is expected to begin Saturday as another strong ridge of high pressure returns over the\\nregion.\\n\\nWEATHER FORECAST TODAY (WEDNESDAY DAYTIME):\\n\\nSKY/WEATHER: Continued cooler with some morning low clouds and smoke likely...then sunny,\\nMAX TEMPERATURES: 79 - 84\\nMIN HUMIDITY 2000 ft: 24 - 32%.\\n\\nWINDS (EYE LEVEL):\\n\\nValley Floor to Midslope: South and southeast 4 to 7 mph with gusts to 12 mph through mid\\nmorning then becoming southwesterly 7 to 12 mph with\\ngusts to 18 mph through midnight.\\n\\nMidslope to Ridge: South winds 6 - 10 mph through mid morning...then increasing to south\\n\\nand southwest 12 to 16 with afternoon gusts to 22 mph through midnight.\\nLAL: 1 CWR: 0%\\nSTABILITY / INVERSION: Moderately Unstable.\\nSMOKE TRANSPORT WIND: South-southwest 25 mph.\\n\\na ee ee es ce ee eee ee me er fe ep kd dh SS PS SS SS ee a es ee ee Ee te SE Oe Oe\\n\\nWEATHER FORECAST WEDNESDAY NIGHT:\\nSKY/WEATHER: Low clouds and smoky through the morning hours.\\nMIN TEMPERATURES: 49 - 54.\\nMAX HUMIDITY: 90 TO 100%.\\nWINDS (EYE LEVEL):\\nSouth and southwest 10 to 15 mph with locally higher gusts to 20 mph through 0200 hours.\\nSouth winds diminishing to 5 to 10 mph through sunrise.\\nOUTLOOK FOR THURSDAY: Sunny and warmer...and much lower RH's. Max Temps: 87 to 92. Min\\nRH: 17 to 22%. Wind: Upslope or southwest 4 to 8 mph...gusts to 15 mph after 1200 PDT, East Side:\\nUpslope or south-southeast 4 to 8 mph...gust to15-20 mph in the afternoon.\\nSmoke Transport Wind: South-southwest 25 mph.\\nEXTENDED FORECAST FOR FRIDAY THROUGH SUNDAY: Mainly clear and becoming hot and\\ndry again. Max Temps 96 to 101. Min RH 16 - 21%,..near 10% Saturday and Sunday. Mainly west winds\\n5 to 10 mph.\\nSmoke Transport Wind: Southwest 30 mph.\\n\\n \\n\\n \\n\\nOBSERVED WEATHER FROM YESTERDAY (TUESDAY):\\nRAWS MAX TEMP MIN RH WIND SPEED MPH / DIRECTION\\nBROOKS 101 13% 4-7... Gust12 / SouthFIRE BEHAVIOR FORECAST\\n\\nFORECAST NUMBER: 004 TYPE OF FIRE: Wildfire\\nFIRE NAME: Count OPERATIONAL PERIOD: July 4, 2018 Monda\\nPe IME ISSUED: 200\\n\\n \\n\\nUNIT: CAL FIRE-Sonoma, Lake, Napa SIGNED: Cn ©. brew\\nINPUTS\\n\\nWEATHER SUMMARY:\\n\\nDaytime: Sunny with temps near 79°-84°. Relative humidity 24%-32%.\\n\\nWinds will vary by position on slope and time of day. Please review incident weather forecast.\\n\\nNight time: Smokey with temps near 49°-54° and relative humidity 90-100%. Winds will vary by position on slope and\\n\\ntime of day. Please review incident weather forecast.\\n\\nOUTPUTS\\n\\n \\n\\nFIRE BEHAVIOR\\nGENERAL:\\nToday will be the coolest and most moist day this week. This favorable weather should keep fire behavior to a moderate\\nlevel but a south wind will push the fire towards heavier fuels. The expected fire behavior this operational period is for\\nmoderate growth, but fuel conditions have been accelerating fire behavior despite cooler weather, The fire is burning in a\\nmix of Grass, Brush and Conifers. South winds will align with the most active branches of the fire this operational period.\\n\\n     \\n \\n      \\n     \\n   \\n\\nProbability of Ignition 70-80% Spotting Distance 1% mile Fine Dead Fuel Moisture 3-4%\\n\\n   \\n\\n  \\n \\n \\n\\nSPECIFIC:\\nBranch Il\\nMuch of fire activity on this branch has transitioned to lower elevations and has been holding on control lines. The only\\nexception is the far north portion of the branch that will have opportunity for dangerous fire spread as heavier fuels align\\nwith wind. The rates of spread in the grass can exceed 90 ch/h and 80 ch/h in the brush were wind and slope align. Fuel\\ncontinuity varies by aspect and elevation but all fuels are expected to support fire growth.\\n\\nBranch IV\\n\\nThis branch is mainly grass oak woodland that has been back burning towards farming areas on the east and towards Hwy\\n128 on the south. A successful burning operation has brought most of the control lines to lower elevations and are expected\\nto have very little activity. The area of concern is for pockets of unburned fuel that could ignite and impact the Hwy 128\\narea. If wind and slope align on this branch, expect the values in grass to exceed 90 ch/h and 80 ch/h in the brush.\\n\\nBranch VI\\n\\nThe fire has progressed down to Lake Berryessa on most of this branch. A favorable wind should aid to complete any burn\\noperations that were not completed last operational period. Look for pockets of unburned fuel that may become active by a\\nnew wind direction influence. The rates of spread in the grass can exceed 90 ch/h and 80 ch/h in the brush were wind and\\nslope align.\\n\\nBranch VIII\\n\\nThe fire has been back burning, finding slope reveal and accelerating to the north. The afternoon south wind may push the\\nfire up the Knoxville Rd corridor with dangerous rates of spread. The rates of spread in the grass can exceed 90 ch/h and\\n80 ch/h in brush were wind and slope align. Spotting will find opportunity in dry receptive grass.\\n\\nBranch X\\n\\nThis branch is predicted to be the most active portion of the incident this operational period. Heavy fuels aligned with south\\nwinds will push the fire to the north towards Hwy 40. Spotting from large column development may out pace ground and air\\nresources. Indirect line construction must monitor fire conditions for accelerated spread compromising escape routes. The\\nrates of spread in the grass can exceed 100 ch/h and 90 ch/h in brush where wind and slope align.\\n\\n \\n \\n      \\n   \\n   \\n   \\n   \\n   \\n   \\n   \\n   \\n   \\n   \\n   \\n   \\n   \\n   \\n   \\n   \\n   \\n   \\n \\n    \\n\\nAIR OPERATIONS: Air resources may be grounded due to smoke, make your plan with this in mind\\n\\nSAFETY\\ne Fire behavior has been extreme. Make all plans with this as a basis.\\ne Ensure that you have established a realistic escape route.\\n\\n* Look for increased fire activity after 1400hrs.CAL\\n\\naa CAL FIRE INCIDENT MANAGEMENT TEAM 3\\n\\n1, IN\\n\\n  \\n     \\n\\n \\n\\n \\n\\nCIDENT NAME:\\n\\n \\n\\n \\n\\n \\n\\n2. DATE PREPARED: 3. TIME PREPARED:\\nCounty 07/03/18 1800\\n4. PREPARED BY: 5. LEADER NAME: 6, OPERATIONAL PERIOD:\\nDavid Sargenti SOF1 David Sargenti SOF1 07/04/18 0700 TO 07/05/18 0700\\n\\n \\n\\n        \\n \\n \\n\\n   \\n\\nThis Nation will remain the land of the free\\nonly as long it is the home of the Brave!\\n\\n \\n\\nAll PPE must be worn when working on the fire-line.\\n\\n  \\n \\n\\nProvide sufficient rest during the work cycle.\\n\\n  \\n \\n\\nMake sure everyone gets a briefing on the plan for the day!\\n\\n  \\n \\n\\nWatch for increase in traffic and congestion. Stay focused on driving safely.\\n\\n  \\n \\n\\nMonitor your hydration/nutrition intake and keep adequate supplies of each.\\n\\n  \\n \\n\\nBe alert to changes in wind direction and expect changes in fire behavior.\\n\\n  \\n   \\n\\n  \\n\\nBeware of environmental hazards such as bee hives, poison oak, trip\\nhazards, steep slopes and stump holes.\\n\\n   \\n\\n  \\n\\nTailgate Safety Briefing Checklist\\n\\nY Accountability: Everyone checks in and\\neveryone checks out. Supervisors know\\nwhere their crews are at all times,\\n\\n¥ Communication: Everyone knows the\\ncommunication plan and how to use\\ntheir radio.\\n\\n¥ Briefing: Everyone knows the plan for\\nthe day and their role in the plan.\\n\\n¥ Safety Gear: Everyone has the\\nappropriate safety gear.\\n\\n¥ LCES: Have these been addressed?\\n\\nCc 8\\nPrepared by: David Sargenti SOF1 (Aw Ee, ae\\n\\n5\\n\\n   \\n\\n   \\n\\nLevels of Engagement\\n\\nPrimary Plan (Offense)\\n\\nAlternative Plan (Offense)\\nContingency Plan (Defense\\n\\n          \\n          \\n \\n\\n \\n   \\n       \\n  \\n\\n \\n     \\n\\nkimergency Plan (DefenseINCIDENT RISK ANALYSIS ICS 215A\\n\\n   \\n\\n \\n\\n  \\n \\n   \\n\\n \\n  \\n \\n  \\n \\n \\n\\ne Follow Hazard Tree Safety Guidelines IRPG (p. 22).\\n\\nMany of the trees within the fire area and along roadways are\\nstressed. Snags are present.\\n\\nBe aware that trees may fall even if not im\\nDo not get complacent during mop up.\\nWatch your footing.\\n\\nWear your PPE.\\nWatch your speeds,\\nWatch for debris in roadways.\\n\\nExpect increased civilian traffic in the\\nHot and dry weather will continue.\\nWatch for changing weather conditions.\\n\\nThe local pattern is a daily afternoon wind shift. Sta\\nAll personnel are responsible for their personal safety,\\nBe sure to wear all required PPE while on the fire line.\\n\\nBe cautions of snakes and yellowjackets within the fire area.\\nFollow Power Line safety guidelines IRPG (p. 24).\\nTreat all downed power lines as energized,\\nDrink water before, during and after each shift.\\nBe alert for signs of heat stress in yourself and others.\\nMonitor incoming and outgoing resources for level of fatigue.\\nProvide sufficient rest during the work cycle.\\nBe aware of civilians in the area.\\nCivilians may be distracted by the fire operations. Stay alert.\\n\\n  \\n  \\n \\n\\nFIRE AND DROUGHT\\nWEAKENED TREES\\n\\n   \\n \\n \\n\\npacted by the fire.\\n\\n   \\n \\n \\n  \\n  \\n  \\n   \\n \\n \\n    \\n \\n \\n\\n  \\n \\n \\n  \\n      \\n   \\n\\npopulated areas.\\n\\n      \\n \\n   \\n\\n \\n\\n  \\n \\n   \\n  \\n    \\n   \\n \\n   \\n\\n  \\n\\nALL POWER LINES\\n\\nHYDRATION\\n\\n    \\n   \\n  \\n  \\n\\n    \\n\\n \\n\\n  \\n  \\n\\nL COMMUNICATIONS Check the communication plan for frequency assignments,\\n\\ne Use human repeaters as needed.\\nL. BRIEFINGS e Make sure everyone gets a briefing on the plan for the day.\\n\\ne Document this on your ICS 214.\\nL\\n\\nLCES ® Ensure that LCES is being utilized.\\n\\nBe aware of rotor wash when working near helicopters.\\nUnderstand that hazard trees may react to helicopters overhead.\\nMonitor assigned aircraft freq\\n\\n \\n    \\n  \\n  \\n\\n \\n \\n \\n \\n\\n  \\n\\nAIRCRAFT AWARENESS\\n\\n \\n  \\n \\n \\n\\nMaintain situational awareness.\\nBe prepared for extreme fire behavior in all presented fuel types.\\nLive fuel moistures are Critical\\nReview IRPG (p. 80).\\nProvide working space around equipment.\\n\\nAvoid working ipment where rollout is a\\n\\n   \\n\\nFIRE BEHAVIOR\\n\\n \\n \\n \\n  \\n  \\n   \\n\\n  \\n  \\n  \\n\\n  \\n  \\n\\nHEAVY EQUIPMENT\\n\\na OPERATIONS\\nee FIRING OPERATIONS\\n\\nIncident Name:\\nCounty\\n\\n     \\n\\nLL,\\nL\\nL,\\nL\\nL\\nL\\nL,\\nJL\\nL,\\n\\nA\\nA\\niN\\nA\\n\\\\\\nA\\nA\\nA\\nBRA\\n\\n      \\n  \\n    \\n\\n      \\n\\n   \\n    \\n\\n  \\n \\n  \\n\\n07/03/18\\nDavid Sargenti\\n\\nOperational! Period:\\n07/04/18 -07/05/18\\n0700-0700\\n\\nDate Prepared:\\nPrepared by:\\n\\n       \\n  \\n\\n  \\n\\nIn readiness is allASSIGNMENT LIST (ICS 204) CONNFORMATIONIIBASIC\\n1. Incident Name: 2. Operational Period:\\nCOUNTY Date From: 07/04/18 Date To: 07/05/18\\nTime From: 0700 Time To: 0700\\n\\n   \\n\\n4. Operations Personnel:\\nOperations Section Chief: S. Norman/G.Belyea Night Ops: G. Casario\\nBranch Director: T. Patten\\nDivision/Group Supervisor: D. Soldavini (AM) / J. Brunk (PM)\\n\\n5. Resources Assigned: ** Resources Below in Bold are 12 Hour ** Reporting Location, Special Equipment,\\nRemarks, Notes, and Information\\nTime Location\\n0700-0700 __DP 20\\nISTCMRNO150C |S Martinelli, Chris, | 21 | 26 fo700-0700 P20\\nISTCANF1603C ——SSSSi|~CRbledo, James | 27 | E65 [0700-1900 DP20\\nBR ee en fr\\nstemmusw4G |S Barajas, Eduardo | 33 | 80700-0700 DP20\\nSTGBTUSZIaG ——Cd|~CSitter, Benjamin | 33 | C-10__—f 0700-0700 DP20\\n0700-0700 _ DP 20\\nISTGLNU9145G |S Waashington, Brian | 33 |_—C-55__——*|0700-0700_DP-20\\nie _ aa\\n[CRWCNDFOLSOMLAKE _—_—_—| Schroeder, JasonRyan| 21 | C-7_——*| 0700-1900 P20\\n[CRWPVTARDEN—|~—sLeobardo, Orozco | 20 | —c-27_—*| 700-1900 DP20\\nCs | | a ees Oe a)\\nSTLAEUSZ7eL | Pinochi, Mike =| =~ S| S85 [0700-0700 DP20\\nsTuHuUoTR—<irSi“(‘SNCOC“(‘(#S*CNCSSC#S4 ST 87 for00-0700 DP20\\npozTuu4i4s |S bot, Don =| 38] 8G 0700-0700 DP.20\\n\\n \\n   \\n   \\n \\n \\n\\n        \\n \\n \\n\\n6. Work Assignments:\\nConstruct and improve line.\\nStructure defense.\\nPerimeter control.\\n\\n \\n \\n \\n \\n \\n\\n7. Special Instructions:\\nNIFC Commands, choose the Command that is clear. Either NIFC C4, C11, or C21.\\nNIFC Commands channels are linked to each other. SEE COMM MAP.\\n\\n8. Communications (radio and/or phone contact numbers needed for this assignment):\\n\\nName «| Ch | Function | RxFreq | RxTone | TxFreq | TxTone | Notes |\\n136.5 (T4)\\nINeGTY —_____—_'| ® | TaCTOAL | tegae oT ease\\n156.7 (T6) | _ 156.0750 | 156.7 (76) |\\nAIR TO GROUND\\n[SUARD.—S——=@s16 | ‘EMERGENCY | 168.6250 | 0 | _ 168.6250. | 110.9(T1) | crrpem 1ochRADI0s\\n\\n      \\n       \\n \\n \\n\\n \\n\\nGrant Russell Pos/Title: RESL\\nDate/Time: 7/3/2018 2300 hours\\nCONTROLLED UNCLASSIFIED INFORMATION//BASIC\\n\\n9. Prepared by: N : |\\nee eee Signature:__ yASSIGNMENT LIST (ICS 204) CONNFORMATIONIBASIC\\n1, Incident Name: 2. Operational Period:\\nCOUNTY Date From: 07/04/18 Date To: 07/05/18\\nTime From: 0700 Time To: 0700\\n\\n4. Operations Personnel:\\nOperations Section Chief: S. Norman/G.Belyea Night Ops: G, Casario\\nBranch Director: T. Patten\\n\\n \\n\\nDivision/Group Supervisor: D. Soldavini (AM) / J. Brunk (PM)\\n\\n5. Resources Assigned: ** Resources Below in Bold are 12 Hour ** Reporting Location, Special Equipment,\\n: Remarks, Notes, and Information\\nResource Identifier Request # Time Location\\n\\n0700-0700 DP 20\\n0700-0700 DP 20\\n4\\n-6\\n\\nE\\nE\\nE 0700-0700 DP 20\\n5\\n\\n| = E-§ «0700-0700 += DP. 20\\n\\npozinuiwas SC—C~irSCSCSC~S~CS\\n)\\n\\nDOZ PVT E-6 LUIZ\\nE-103 0700-0700 DP 20\\n\\nW/T PVT E-102 WESTWOOD Westwood, Walt\\n\\nW/T 103 ROTCHER Rotcher, Brook\\nW/T PVT E-107 WILLMORE Torres, Bill\\n\\n0700-0700 DP 20\\n0700-0700 ODP 20\\n| =—--364 ~—Ss 0700-0700 DP 20\\n| 700-0700 P20\\n| 700-0700 DP 200\\n| ifo0-0700 P20\\n\\n2\\n2\\n\\nPVT EHEQB MCBRIDE 0-165\\n1\\ni\\nRO eee\\nFEMPSUBLERO-27000 |\\n6. Work Assignments:\\n\\nConstruct and improve line.\\n\\nStructure defense.\\n\\nPerimeter control.\\n\\n2\\n2\\n1\\n\\n7. Special Instructions:\\nNIFC Commands, choose the Command that is clear. Either NIFC C4, C11, or C21,\\nNIFC Commands channels are linked to each other. SEE COMM MAP.\\n\\n \\n\\n8. Communications (radio and/or phone contact numbers needed for this assignment):\\n\\nNIFC C4 BERRYESSA LOOKOUT\\nNIFC T7 | 8 | tactical | 168.25 | 0 | 16825 | Oo\\n\\nCALCORD 156.7 (T6) 156.7 (T6)\\n\\nAIG T24 192.8 (116) NIG (S CDF TAC 24\\n\\nGUARD | 16 | EMERGENCY | 168.6250 | 0 | 168.6250, | 110.9(T1) | GpHPH,16cH RADIOS\\n\\n9. Prepared by: Name: Grant Russell Pos/Title: RESL Ninn vw £\\n: Y Z ANA ey\\n\\nDate/Time: 7/3/2018 2300 hours\\nCONTROLLED UNCLASSIFIED INFORMATION//BASIC\\n\\n \\n \\n\\n \\n\\n \\n\\n   \\n    \\n\\n \\n\\nSignature:ASSIGNMENT LIST (ICS 204) SST UCIOIGARIE\\n\\n1. Incident Name: 2. Operational Period:\\nCOUNTY Date From: 07/04/18 Date To: 07/05/18\\n\\nTime From: 0700 Time To: 0700 Branch:\\n\\n   \\n   \\n\\n4. Operations Personnel:\\nOperations Section Chief: S. Norman/G.Belyea Night Ops: G. Casario\\nBranch Director: T. Patten\\nDivision/Group Supervisor: D. Soldavini (AM) / J. Brunk (PM)\\n\\nDiv/Group:\\n\\n5. Resources Assigned: ** Resources Below in Bold are 12 Hour ™ Reporting Location, Special Equipment,\\nRemarks, Notes, and Information\\n\\nResource Identifier Time Location\\n\\nFEMT CHAVEZ 0-272 Chavez, Antonio Jr 0-272 0700-0700 DP 20\\n\\nSOFR THOMAS 0-155 Thomas, Jack 0-155 0700-0700 DP 20\\n\\nSOFR (T) CORDERO 0-73 0700-0700 _ DP 20\\n\\n6. Work Assignments:\\nConstruct and improve line.\\nStructure defense.\\nPerimeter control.\\n\\n7. Special Instructions:\\nNIFC Commands, choose the Command that is clear. Either NIFC C4, C11, or C21,\\n\\nNIFC Commands channels are linked to each other. SEE COMM MAP.\\n\\n \\n\\n8. Communications (radio and/or phone contact numbers needed for this assignment):\\n\\nName ———S—S—S—S«d Ch | Function | RxFreq | RxTone | TxFreq | TxTone | Notes |\\nINircca——~«|-1 [| COMMAND | 170 | 136.5(T4) | 166.675 | 136.5(T4) | erevessatooxour _\\nNIFCT?. | 8 | TACTICAL | 16025 | 0 [teazs ff oT\\n[CALCORD. «| «13_'|| MEDICAL __| 156.0750 | 156.7(T6) | 156.0750 | 1567(T6) |\\nAIR TO GROUND 192.8 (116)\\nEMERGENCY\\n\\n   \\n\\n         \\n      \\n\\nGrant Russell Pos/Title: RESL\\nDate/Time: 7/3/2018 2300 hours\\nCONTROLLED UNCLASSIFIED INFORMATION//BASIC\\n\\n(ae\\n\\n9.P by: N :\\nrepared by: Name Signature: “yten\\n\\n!ASSIGNMENT LIST (ICS 204) SONNFORMATION/BASIC\\n\\n \\n\\n1. Incident Name: 2. Operational Period:\\nCOUNTY Date From: 07/04/18 Date To: 07/05/18\\nTime From: 0700 Time To: 0700 Branch: ll\\n4. Gperstions Hareonney Div/Group: C\\nOperations Section Chief: S. Norman/G.Belyea Night Ops: G. Casario\\nBranch Director: T. Patten Charlie\\nDivision/Group Supervisor: A. Anderson 1 of 2\\n5. Resources Assigned: ** Resources Below in Bold are 12 Hour * Reporting Location, Special Equipment,\\nRemarks, Notes, and Information\\nTime Location\\n0700-0700 _ DP 20\\noe rr\\nENGLNU1479— | Stu, William =| 5S | E121 |0700-0700 _DP20\\n0700-0700 _ DP 20\\n0700-0700 _ DP 20\\nENGTs Ee rR |\\nenct3.—iti‘“‘wRSSC“‘CCNCOCOC*S*S*SC“(‘(*LSC NCCT; ST sf0700-0700 P20\\neNGTS ef | rte\\nENGT3—(“‘iRSCC‘“‘(‘#SNC CLCCOUCCSdT:S Sif 0700-0700 DP ZO\\n0700-0700 _ DP 20\\n0700-0700 _ DP 20\\n[CRWPNFBECKWOURTHIHC #1 | _——Wintch, Mike —||_— 19 ||_——C-78__—|0700-1900 _DP.20\\n0700-0700 _DP.20\\n[DOZPVT E-1FORD——C‘d(L:C(‘SSCForc, eof, =|] 1 | E41 «0700-0700 _DP'20\\nE-3\\nE-179 [0700-0700 DP 20\\n\\n   \\n \\n\\n6. Work Assignments:\\nMop up and patrol.\\n\\nConstruct dozer line behind structures.\\nStructure defense preparation.\\n\\n \\n       \\n  \\n\\n \\n\\n7. Special Instructions:\\nNIFC Commands, choose the Command that is clear. Either NIFC C4, C11, or C21.\\nNIFC Commands channels are linked to each other. SEE COMM MAP.\\n\\n    \\n\\n8. Communications (radio and/or phone contact numbers needed for this assignment):\\n\\nName Ch | Function | Rx Freq\\n136.5 (14)\\nlcorT2e Ss =| TACTICAL _| 159.2925 | 192.8(T16)| 159.2925 | 192.8(T16) |\\n[CALCORD. Ss 13:(|| MEDICAL _| 156.0750 | 156.7(T6) | 156.0750 | 156.7(T6) |\\n192.8 (T16)\\nGUARD | GPHIDPH, 16 CH RADIOS _\\n\\n   \\n  \\n   \\n\\n \\n  \\n    \\n\\n \\n\\n/_\\n\\n \\n  \\n   \\n\\nGUARD 168.6250 | 0 —s|_—-168.6250_,| 110.9(T1) | _cPHoPH, 16 cH RADIOS\\n\\n9. Prepared by: Name: Grant Russell Pos/Title: RESL v Wy\\n\\nDate/Time: 7/3/2018 2300 hours\\nCONTROLLED UNCLASSIFIED INFORMATION//BASIC\\n\\n   \\n\\nSignature:\\n\\n   \\n \\n\\n \\n\\n10ASSIGNMENT LIST (ICS 204) SOE ena\\n\\n   \\n\\n1. Incident Name: 2. Operational Period:\\nCOUNTY Date From: 07/04/18 Date To: 07/05/18\\nTime From: 0700 Time To: 0700 Branch: ll\\n4. Operations Personnel:\\n‘ : ’ Div/Group: Cc\\nOperations Section Chief: S. Norman/G.Belyea Night Ops: G. Casario\\nBranch Director: T. Patten Charlie\\nDivision/Group Supervisor: A. Anderson 2 of 2\\n5, Resources Assigned: ** Resources Below in Bold are 12 Hour ** Reporting Location, Special Equipment,\\nRemarks, Noles, and Information\\nTime Location\\nIDOZPVT E487LEPAGE———|_—sLepage Jim =| = 2 | —SE-187__—*| 0700-0700 P20\\nDOZPVT E-168DUDLEY | _—iLindauer, Mike ~— | ~— 2 | ~—E-188 ‘(0700-0700 P20\\nDOZPVT EtgoRHC———~LSC(Cice— | S| S90 “0700-0700 DP 2D\\n0700-0700 _ DP 20\\n0700-0700 _ DP 20\\nFEMTHENSCHEL 0-277 |_—sHenschel,Sean | 1 |_—0-277_—*| 0700-1900 _ DP. 20\\nFEMTCOLEO-275 ——id| SCC ett =| S| = 0-275 [0700-1900 DP20\\nSOF2JOHNNYO45 | Johnny, Sean |_| 0-45 0700-1900 DP. 20\\nee ee I es le st\\nee ee Se\\nfe\\nae I\\nee ee\\nDn ee el\\nFe ee ee\\nee\\nDh ee ee!\\nfn ge ee EE ee\\n\\n6. Work Assignments:\\n\\nMop up and patrol.\\n\\nConstruct dozer line behind structures.\\nStructure defense preparation.\\n\\n  \\n\\n     \\n      \\n \\n\\n \\n\\n7. Special Instructions:\\nNIFC Commands, choose the Command that is clear. Either NIFC C4, C11, or C21,\\nNIFC Commands channels are linked to each other. SEE COMM MAP.\\n\\n       \\n         \\n \\n\\n8. Communications (radio and/or phone contact numbers needed for this assignment):\\nName ———S—S—S—S«d Sh | Function | _RxFreq | RxTone |  TxFreq | TxTone | Notes\\nINiecc4 | | COMMAND | 170 __| 136.5 (T4)\\nlcort2e =| 9 | tactical | 159.2025 |192.8(T16)| 159.2925 | 1928(T16) |\\n[cALCORD.———S—S™~=~««C | =~ MEDICAL__| 156.0750 | 156.7(T6) | 156.0750 | 156.7(T6) |\\nAIR TO GROUND\\nEMERGENCY | 168.6250 | 0 _—'|_168.6250_|_110.9(T1)\\n9. Prepared by: Name: Grant Russell Pos/Title: RESL Vien ML\\n\\n. Signature: fungi\\nDate/Time: 7/3/2018 2300 hours :\\n\\n   \\n\\nCONTROLLED UNCLASSIFIED INFORMATION//BASIC\\n\\n11ASSIGNMENT LIST (ICS 204) CONNFORMATIONIBASIC.\\n\\n1. Incident Name: 2. Operational Period:\\nCOUNTY Date From: 07/04/18 Date To: 07/05/18\\nTime From: 0700 Time To: 0700 Branch:\\n\\n4. Operations Personnel:\\nOperations Section Chief: S. Norman/G.Belyea Night Ops: G. Casario\\nBranch Director: T. Patten\\nDivision/Group Supervisor: J. Tieso\\n\\nDiv/Group:\\n\\n   \\n\\n5. Resources Assigned: ** Resources Below in Bold are 12 Hour ** Reporting Location, Special Equipment,\\nRemarks, Notes, and Information\\n\\nResource Identifier Time Location\\n\\nSTC MEU 9111C Howard, Tony 0700-0700 DP 20\\n\\nCRW PVT FIRESTORM 5 PT 12 __—f0700-1900__ DP 20\\n\\nCRW PVT FIRESTORM 6 Wills, David 0700-1900 DP 20\\n\\nWIT PVT E-105 MID STATE P1085 0700-0700 DP 20\\n\\n6. Work Assignments:\\nMop up and patrol.\\n\\n    \\n \\n \\n        \\n \\n\\n \\n\\n7. Special Instructions:\\nNIFC Commands, choose the Command that is clear. Either NIFC C4, C11, or C21.\\nNIFC Commands channels are linked to each other. SEE COMM MAP.\\n\\n8. Communications (radio and/or phone contact numbers needed for this assignment):\\n\\nName S| Ch | Function | RxFreq | RxTone | TxFreq | TxTone | Notes\\n(corT2e «| ~| TACTICAL _| 159.2025 | 192.8(T16)| 159.2925 | 192.8(T16) |\\n(CALCORD. =|: | MEDICAL _| 156.0750 | 156.7(T6) | 156.0750 | 1567(T6) |\\n192.8 (T16)\\nEMERGENCY | 168.6250 | 0 _—|_—‘168.6250_|_ 110.9 (T4)\\n\\n  \\n \\n    \\n\\n \\n \\n \\n\\n    \\n\\nGrant Russell Pos/Title: RESL\\nDate/Time: 7/3/2018 2300 hours\\nCONTROLLED UNCLASSIFIED INFORMATION//BASIC\\n\\n9. Prepared by: Name:\\nICS 204\\n\\nAan AA\\n\\nSignature:\\n\\n     \\n\\n   \\n\\n \\n\\n12ASSIGNMENT LIST (ICS 204) i, SEER TEMMERERS\\n1. Incident Name: 2. Operational Period:\\nCOUNTY Date From: 07/04/18 Date To: 07/05/18\\nTime From: 0700 Time To: 0700 Branch:\\n\\n4. Operations Personnel:\\nOperations Section Chief: S. Norman/G.Belyea Night Ops: G, Casario\\nBranch Director: M. Higgins / J. Buchmeier (T) Branch Safety: M. Schuler / S.\\nDivision/Group Supervisor: A. Leonard / J. Fracchia (T) Holden (T)\\n\\n5. Resources Assigned: ** Resources Below in Bold are 12 Hour ** Reporting Location, Special Equipment,\\nRemarks, Noles, and Information\\n\\nDiv/Group:\\n\\n   \\n\\nTime Location\\n\\nSTC YNP57—0c———SCSCSCSC*dCSsHumphrey, Kyle | 24 | E64 fo7oo-1900 Ss *\\nWIT PVT E-17LENAHAN |_Settlemire, Mickey | 2 |_——E-17,_| 0700-0700\\n\\nWIT PVT E18LENAHAN i |_—Settlomire, Mickey | 1 | E18 [0700-0700\\ndN eee\\na ee ee ee\\nee = ee ee) SS\\nee ee ee ——Ee\\na I at\\na mae Ye re\\nre ee en Se\\neee pe et\\nne a een ee\\n_———————— ar ee eee ee ee\\n_—— gn ee eee eee\\nee eee eel) ee ee\\neg ee ee\\neh ee\\nPE\\n\\n6. Work Assignments:\\nMop up 500 feet.\\nTactical patrol.\\n\\n7. Special Instructions:\\n\\n“Reporting location is Hwy 16 at Rd 78A.\\nNIFC Commands, choose the Command that is clear. Either NIFC C4, C11, or C21,\\nNIFC Commands channels are linked to each other. SEE COMM MAP.\\n\\n     \\n \\n\\n8. Communications (radio and/or phone contact numbers needed for this assignment):\\n\\nName Ch | Function | RxFreq | RxTone |  TxFreq | TxTone | Notes |\\nINiFcCa | «ot (| ~COMMAND | 170 | 136.5(T4) | 166.675 | 136.5(T4) | aeRRvESsALooKoUT_\\n[corT2s ——SSs«d|:«S' |= CTACTICAL _| 159.2925 | 192.8(T16)| 159.2925 | 192.8(T16) |\\n[CALCORD | «13«(| MEDICAL __| 156.0750 | 156.7(T6) | 156.0750 | 156.7(T6) |\\nAIR TO GROUND 192.8 (T16)\\nGUARD | GPHIQAH, 16 CH RADIOS _\\n\\n \\n  \\n \\n\\n \\n      \\n \\n   \\n\\n         \\n \\n \\n\\nGUARD EMERGENCY | 168.6250 | 0 | 168.6250, | 110.9(T1) | GpHi#u, 16cH RADIOS\\n\\n9. Prepared by: Name: Grant Russell Pos/Title: RESL F / AA,\\n\\nDate/Time: 7/3/2018 2300 hours\\nCONTROLLED UNCLASSIFIED INFORMATION//BASIC\\n\\n    \\n  \\n\\n \\n\\nSignature:\\n\\n \\n     \\n \\n  \\n\\n  \\n\\n13ASSIGNMENT LIST (ICS 204) SE Anat\\n\\n \\n\\n1. Incident Name; 2. Operational Period:\\nCOUNTY Date From: 07/04/18 Date To: 07/05/18\\nTime From: 0700 Time To: 0700 Branch:\\n4. Operations Personnel: :\\n. ; . Div/Group:\\nOperations Section Chief: S. Norman/G.Belyea Night Ops: G. Casario\\nBranch Director: M. Higgins / J. Buchmeier (T) Branch Safety: M. Schuler / S.\\nDivision/Group Supervisor: D. Rogers Holden (T)\\n5. Resources Assigned: ** Resources Below in Bold are 12 Hour ** Reporting Location, Special Equipment,\\nRemarks, Notes, and Information\\nResource Identifier Time Location\\nSTC MEU 9110C | Rogers, Dino | 17_—s|_ E82 __—*| 0700-0700 :\\nSTC OES 2870C E-328 0700-0700 :\\nCRW CNF LAGUNA IHC Mutholland-coyne, Maria | C-82.~—s« | 0700-1900 .\\nCRW STF GROVELAND CREW 4 Gast, Sean P 0700-1900 ,\\nE-186 0700-0700 ‘.\\n\\n0700-0700 ‘\\n| ees fovoo-o700,\\nP .\\n\\nIDOZPVT B25@RIDGE\\nWIT PVT E-15 JACK ROSEVEAR\\nFEMPMARVINO-268 —|_—Maarvin, Chris Stark\\n\\nDOZ PVT _E-186 LASSEN\\n\\nFEMT LOWRY 0-125 Lowry, Christopher | O-125 = [0700-1900\\n\\n     \\n\\n6. Work Assignments:\\nMop up 300 feet.\\nTactical patrol.\\n\\n \\n \\n   \\n\\n7. Special Instructions:\\n*Reporting location is County Rd 25 at the fireline.\\n\\nNIFC Commands, choose the Command that is clear. Either NIFC C4, C11, or C21.\\n\\nNIFC Commands channels are linked to each other. SEE COMM MAP.\\n\\nDIVS will be D. Rogers from STC MEU 9110C\\nNames Ch | Function | Rx Freq | RxTone |  TxFreq | TxTone |\\nINiFCC4 S| 1 | COMMAND =| 170__—| 136.5(14) |__ 166.675 | 136.5(T4) | _aerRvessatooKour\\n[corT2s —S—*dT«S |= TACTICAL | 159.2925 | 192.8(T16)| 159.2925 | 192.8 (T16) |\\n\\n  \\n   \\n\\n   \\n    \\n \\n\\nA/G 724 | 14 |AIRTO GROUND] 151.3325 | 192.8(T16) | 151.3325 | 192.8(T16) | ___aciscor tac24\\nGUARD EMERGENCY | 168.6250 | 0 | 168.6250 110.9(T1) | GpHDPH, 16 CH RADIOS\\n9. Prepared by: Name: Grant Russell Pos/Title: RESL nant\\n\\nSignature: 4] :\\nICS 204 Date/Time: 7/3/2018 2300 hours\\n\\n   \\n\\nCONTROLLED UNCLASSIFIED INFORMATION//BASIC\\n\\n14ASSIGNMENT LIST (ICS 204) CONNFORMATIONIIBASIC.\\n\\n1. Incident Name: 2. Operational Period:\\nCOUNTY Date From: 07/04/18 Date To: 07/05/18\\n\\nTime From: 0700 Time To: 0700 Branch:\\n\\n   \\n   \\n\\n4. Operations Personnel:\\nOperations Section Chief: S. Norman/G.Belyea Night Ops: G. Casario\\nBranch Director: M. Higgins / J. Buchmeier (T) Branch Safety: M. Schuler /S.\\nDivision/Group Supervisor: M. Johnson (12 hr) Holden (T)\\n\\nDiv/Group:\\n\\nResering Loos Specks Bauman.\\nRemarks, Notes, and Information\\nTime Location\\nSTF PC t—“—~sS 0700-0700 :\\n[CRWKNFCREW4 —~—=—=—*«| Robinson, Williamm | 20 | —c-76__—|ovoo-1900,S*\\ncrew t—<C«~*dSS~<CSsé‘C~S~™SCS~YSCSCSC‘(CSSCSdTC  foroortzo0\\nWIT PVT EN000WENS «| Owens, im — | 1 | ~—E100——fo7oo-1900\\nwa. i lh rer el\\nFEMPPAYNEO-421—~—~—=—=«|~_—Payne, Darrel =| 1 |= O-t2t_— [0700-1900 *\\nFEMTRIOUXO-273,s|~—sRioux, Austin | 1 | 0-273\\nSS ee ee\\nSS ee et\\ncee ee a ere\\neee Ee ee\\nee eee\\n—— re\\n_ ee\\na eee\\ni: > ee ee ee\\n\\n    \\n  \\n\\n       \\n\\n6. Work Assignments:\\nMop up 300 feet.\\nTactical patrol.\\n\\n  \\n  \\n \\n   \\n     \\n\\n \\n\\n7. Special Instructions:\\n*Reporting location is at Hwy 128 and County Rd 87.\\n\\nNIFC Commands, choose the Command that is clear. Either NIFC C4, C11, or C21.\\nNIFC Commands channels are linked to each other. SEE COMM MAP.\\n\\n   \\n    \\n  \\n\\n \\n  \\n  \\n    \\n  \\n\\n    \\n\\n      \\n\\n8. Communications (radio and/or phone contact numbers needed for this assignment):\\n\\nName ——~~—~—S«(L Ch | __ Function | RxFreq | RxTone | TxFreq | TxTone | Notes |\\n\\nINIFccs~~~*¢|_1_| COMMAND | 170 | 436.5(T4) | 166.675 | 136.5(T4) | serevessatooxour_|\\n\\nlcpFT27.~~~-*«|-_t0. | TACTICAL | 159.3075 |192.8(r16)| 150.3075 | 1928(T16) |\\n\\n(CALCORD.——=—=«-'13. | MEDICAL __| 156.0750 | 156.7(T6) | 156.0750 | 156.7(T6) |\\n\\n14_ [AIR TO GROUND 192.8 (T16)\\n\\nEMERGENCY | 168.6250 | 0 | 168.6250, | 110.9(71) | crwopy, wocunan0s\\n; f\\n\\n9, Prepared by: Name: Grant Russell | Pos/Title: RESL Sicdinal pots Mey A fA\\n\\nICS 204 | Date/Time: 7/3/2018 2300 hours\\n\\n     \\n\\nCONTROLLED UNCLASSIFIED INFORMATION//BASIC\\n\\n15CONTROLLED UNCLASSIFIED\\nASSIGNMENT LIST (ICS 204) INFORMATION//BASIC\\n1, Incident Name: 2. Operational Period:\\nCOUNTY Date From: 07/04/18 Date To: 07/05/18\\n\\nTime From: 0700 Time To: 0700\\n\\n4. Operations Personnel:\\nOperations Section Chief: S. Norman/G. Belyea Night Ops: G, Casario\\nBranch Director: M. Higgins / J. Buchmeier (T) Branch Safety: M. Schuler / S. Juliet\\nDivision/Group Supervisor: J, Gray Holden (T)\\n\\n5. Resources Assigned: ** Resources Below in Bold are 12 Hour ** Reporting Location, Special Equipment,\\nRemarks, Notes, and Information\\n\\n   \\n\\nTime Location\\n\\n0700-0700 _ DP 40\\nstomvueszoc | Hendrie Cal | t6 | E66 [0700-0700 P40\\n0700-0700 DP 40\\nCRWSHF1sc | | tt f0700-1900 PAO\\nICRWOWFCLEELUM | Fllowers, Tod | 18 || C-81__—*| 0700-1900 DP 40\\n\\ncRweB | Beligraphy evi | 20, | C28 [0700-1900 DP4O\\nDOZPVT E-7CooKCoNsTRUCTION[ | TET [0700-0700 DP 40\\n0700-0700 _ DP 40\\n\\njDozPvT Ee4JW | Morrison,Matt | 2 | E484 [0700-0700 P40\\n0700-0700 _ DP 40\\nWITPVTE-S6MARIATRANS | | |G «40700-0700 P40\\n\\nWTPVT E-V13FIRELINE | _Treudal, Brian | 2 | E113 [0700-0700 DP4O\\nVO et = a? OS\\n0700-0700 DP 40\\n\\nTitus, Randall | 1 | 0-79 0700-1900 DP 40\\na\\n\\n   \\n     \\n \\n\\n   \\n\\n6. Work Assignments:\\nMop up 300 feet.\\nTactical patrol.\\n\\n7. Special Instructions:\\nNIFC Commands, choose the Command that is clear. Either NIFC C4, C11, or C21.\\nNIFC Commands channels are linked to each other. SEE COMM MAP.\\n\\n       \\n\\n        \\n\\n8. Communications (radio and/or phone contact numbers needed for this assignment):\\n\\nName Ch | Function | RxFreq | RxTone | TxFreq | TxTone | Notes |\\nlcDFT27 i 10 || TACTICAL _| 159.3075 | 192.8 (T16) 192.8(T16)|\\nICALCORD. | 13:(|| =~ MEDICAL__| 156.0750 | 156.7(T6) | __156.0750__| 156.7(T6e) |\\nGUARD SSSC*d;sS1t6,: |_EMERGENCY | 168.6250 | 0 —|_—_168.6250 } | 110.9 (11)\\n9. Prepared by: Name: Grant Russell Pos/Title: RESL Signatiine: MAnnt sal\\n\\n   \\n  \\n\\n \\n   \\n\\n \\n\\nDate/Time: 7/3/2018 2300 hours\\n\\nCONTROLLED UNCLASSIFIED INFORMATION//BASIC\\n\\n16ASSIGNMENT LIST (ICS 204) CONNFORMATION/IBASIC.\\n\\n1. Incident Name: 2. Operational Period:\\nCOUNTY Date From: 07/04/18 Date To: 07/05/18\\n\\nTime From: 0700 Time To: 0700 Branch:\\n\\n   \\n   \\n\\n4. Operations Personnel:\\nOperations Section Chief: S. Norman/G,. Belyea Night Ops: G. Casario\\n\\nBranch Director: P. Avila Branch Safety: K. Morris\\n\\nDivision/Group Supervisor; D, Hunt\\n\\n5. Resources Assigned: ** Resources Below in Bold are 12 Hour ** Reporting Location, Special Equipment,\\nRemarks, Notes, and Information\\n\\nDiv/Group:\\n\\nPersonnel Time Location\\n\\nE-79\\nISTGRRUGBISG———SSSS~*d~SSClegas, Ruben | 36 | C9 foroo-o700\\npozmeuiis CTS CdS Tr forooor0g\\nWIT PVT E106GREENVALLEY | __Hale,Cat_ | 2 | 106 fo7oo-o700,\\nFEMP MCCARTHY 0-266 «| ‘Mccarthy, Matthew | 1 || _—O-266__—fo7o0-1900,\\nFEMTHINES 0-274 «| Hines, Matthews [1 _—| 0-274 ovoo-tg00.\\nee ee ID ee ee\\nee a ee\\ni Ae es ee\\nee ee ee ——eeeEe\\n= oS ee eee\\n\\n6. Work Assignments:\\nImprove control line around Gosling Canyon.\\n\\n7. Special Instructions:\\n“Reporting location is the Gun Ranch at the end of the East Access Rd.\\n\\nNIFC Commands, choose the Command that is clear. Either NIFC C4, C11, or C21.\\nNIFC Commands channels are linked to each other. SEE COMM MAP.\\n\\n \\n\\n       \\n     \\n\\n8. Communications (radio and/or phone contact numbers needed for this assignment):\\n\\nName —=sSS*«dz;CCH | __Fumction | RxFrea | RxTone | TxFreq | TxTone | Notes\\n(cort27_| 10 | TAcTicAL | 159.3075 | 1928(r16)| 159.3075 | 192.8(T16) |\\njcALCORD.————~«dt_13, |__ MEDICAL __| 156.0750 | 156.7(T6) | 156.0750 | 156.7(T6) |\\nEMERGENCY | 168.6260 | 0 | 168.6250 | | 110.9(71) | cpupertiecr mDios\\n9. Prepared by: Name: Grant Russell Pos/Title: RESL Lf\\n\\n; Signature:\\nDate/Time: 7/3/2018 2300 hours\\n\\nCONTROLLED UNCLASSIFIED INFORMATION//BASIC\\n\\n  \\n\\n \\n\\nL7ASSIGNMENT LIST (ICS 204) SO earn\\n\\n \\n\\n1. Incident Name: 2. Operational Period:\\nCOUNTY Date From: 07/04/18 Date To: 07/05/18\\n\\nTime From: 0700 Time To: 0700 Branch: Vi\\n\\n4, Dpatations Peranunal: . Div/Group: N\\nOperations Section Chief: S. Norman/G.Belyea Night Ops: G. Casario\\nBranch Director: P. Avila Branch Safety: K. Morris November\\nDivision/Group Supervisor: D. Davis\\n** Resources Below in Bold are 12 Hour ** Reporting Location, Special Equipment,\\nRemarks, Notes, and Information\\n\\nPersonnel Time Location\\nSte = at Se ree\\nICRWPVTDIAMONDFIRE | ——sKing, Nick — | 16 | —C-17_—*| 0700-1900 *\\n[CRWPVTGRAYBACK S| CRibich, Mike ~—|_— 20 || C-24 700-1900\\nWT PVT E-O4WARRENWATER | —CidEC | 8M f0700-0700\\nWwrPvTEs8cook | C—“‘iLS CE 8B___—[0700-0700 .\\nFEMPLAROWEO-123 ss |_~—sLarowe, Ryan — || 1 | 0-123_—| 0700-1900 :\\nFEMTFLANDERS 0-126 ———s|_—“Flanders, Barron | 1_—|_—— 0-126 [0700-1900\\nISOFRCAMBAO-148 | Camba, Michael Craig | 1 | 0-148 fo7o0-0700\\nDa ee ecere — ree el\\nSe el\\nge oe _. SE he eS ee\\nS—————eee (eee On) en eee\\n1 a eS\\nPn ee EE\\nPH eg\\nLr ee ee ES eee\\na ee\\n\\n6. Work Assignments:\\nImprove line.\\nMop up and patrol East Access Rd.\\n\\n \\n \\n\\n \\n\\n7. Special Instructions:\\n\\n*Reporting location is the Gun Ranch at the end of the East Access Rd.\\n\\nNIFC Commands, choose the Command that is clear. Either NIFC C4, C11, or C21.\\nNIFC Commands channels are linked to each other. SEE COMM MAP.\\n\\n     \\n \\n\\n   \\n \\n\\n   \\n  \\n\\n  \\n\\n8. Communications (radio and/or phone contact numbers needed for this assignment):\\n\\nName —————sd «SC | __ Function _[ RxFreq | RxTone |  TxFreq | TxTone | Notes\\nNiFcc4 [1 | commann [| 170__(| 136.5(74) | __ 166.675 |_136.5(T4) | _weRRvessaLooKour_|\\ncOFT30. 44 | TACTICAL _| 151.3925 | 192.8(T16)| 151.3925 | 192.8(T16) |\\n13 156.7(T6) | 156.0750 | 156.7(T6) |\\nAIR TO GROUND\\n[GUARD =—<C~Ssi‘Cs~s~S™SCS S| «<EMEERGENNCY | 168.6250 | 0 =| 168.6250, | 119,9(T1) | _oprinrH, 16 cH RADIOS\\n9. Prepared by: Name: Grant Russell Pos/Title: RESL ent jj /\\n\\n   \\n\\nSignature:\\n\\n  \\n   \\n\\n \\n\\nDate/Time: 7/3/2018 2300 hours\\nCONTROLLED UNCLASSIFIED INFORMATION//BASIC\\n\\nICS 204\\n\\n18ASSIGNMENT LIST (ICS 204) SON RORUATONIMASIC:\\n1. Incident Name: 2. Operational Period:\\nCOUNTY Date From: 07/04/18 Date To: 07/05/18\\n\\nTime From: 0700 Time To: 0700\\n\\n   \\n   \\n\\n4, Operations Personnel:\\nOperations Section Chief: S. Norman/G.Belyea Night Ops: G, Casario\\nBranch Director: S. Ward Branch Safety: M. Klusyk / S.\\n\\nDivision/Group Supervisor: J. Smith Howell (T)\\nRenoring Locals, Sijarial Equipatent\\nRemarks, Notes, and Information\\n\\nTime Location\\n\\nSTCxSU 32256. ~~——*'|__—Shalowitiz, Jon | =O s|_—SE-68 0700-0700 DP6O\\n|CRWGCCFORTUNA22____—'|__Herndon, Dillon | 15 | —C-56__—([o700-1900DP6O\\nWTPVT E44BURGESSANDSONS [C=C |S [0700-0700 DP GO\\nWTPVT E-20LEMUEL—=——s«|_——=sMord, Everett =| Ss | -20_— [0700-0700 DP6O\\nFEMPBRASHEMO-124——«(|__—~Brashem,Kevin | 1 —*(|_—O-24_—|o7o0-1900 P60\\nFEMTCLEMO-27_~~—=Ss=S=S=~«dL~SC*«Cems Coty, =| St |= -127 [0700-1900 DPGO\\n\\nSOFR DULCICH 0-152 Dulcich, Gordon | = «-152 «| 0700-0700 DP. 60\\nSOFR PFEIFER 0-66 Pfeifer, Scott W { | = -Q-66 ~~: |0700-0700 DP. 60\\n\\n6. Work Assignments:\\nMop up and patrol.\\nHold Berryessa Knoxville Rd.\\n\\n     \\n     \\n \\n\\n  \\n\\n \\n \\n\\n7. Special Instructions:\\nNIFC Commands, choose the Command that is clear. Either NIFC C4, C11, or C21.\\nNIFC Commands channels are linked to each other. SEE COMM MAP.\\n\\n8. Communications (radio and/or phone contact numbers needed for this assignment):\\n\\nName ~—~~”~«<Y Ch | Function | RxFreq | RxTone | TxFreq | TxTone | Notes |\\n[coFTs0. «YY tt | tactican | 181.3925 [192.8 (rie) | 151.3925 [aeza(ri) |\\nCALCORD | 13 | MeDIcaL | 156.0750 | 156.7(T6) | 156.0750 | 156.7(T8) |\\n14_|AIR TO GROUND 192.8 (T16) 192.8 (T16)\\nGUARD | 16 | EMERGENCY | 168.6250 | 0 | _ 168.6250, | 110.9(T1) | _geworn, cH ranios _\\n\\n     \\n \\n    \\n\\nPos/Title: RESL\\nDate/Time: 7/3/2018 2300 hours\\nCONTROLLED UNCLASSIFIED INFORMATION//BASIC\\n\\nGrant Russell\\n\\nNasu fe\\n\\nSignature:\\n\\n \\n  \\n\\n  \\n\\n19\""
      ]
     },
     "execution_count": 27,
     "metadata": {},
     "output_type": "execute_result"
    }
   ],
   "source": [
    "file_contents"
   ]
  },
  {
   "cell_type": "code",
   "execution_count": 46,
   "metadata": {},
   "outputs": [],
   "source": [
    "IAP_DF = pd.DataFrame({'Incident_code':[],'Operational_Period':[],'Control Objective':[]})"
   ]
  },
  {
   "cell_type": "code",
   "execution_count": null,
   "metadata": {},
   "outputs": [],
   "source": [
    "'OPERATIONAL PERIOD\\n07/04/18 0700\\n\\nto\\n07/05/18 0700'"
   ]
  },
  {
   "cell_type": "code",
   "execution_count": 47,
   "metadata": {},
   "outputs": [],
   "source": [
    "IAP_DF['Control Objective'] = file_contents.split('Control Objectives')[1].split('General Situational Awareness')[0].split('\\n')\n",
    "incident_dir, IAP_DF['Operational_Period'] = os.path.split(os.path.dirname(IAP_path))\n",
    "IAP_DF['Incident_code'] = os.path.split(incident_dir)[1]"
   ]
  },
  {
   "cell_type": "code",
   "execution_count": 49,
   "metadata": {},
   "outputs": [],
   "source": [
    "this_IAP_DF = IAP_DF.copy()"
   ]
  },
  {
   "cell_type": "code",
   "execution_count": 52,
   "metadata": {},
   "outputs": [],
   "source": [
    "IAP_DF = IAP_DF.append(this_IAP_DF)"
   ]
  },
  {
   "cell_type": "code",
   "execution_count": 55,
   "metadata": {},
   "outputs": [
    {
     "data": {
      "text/html": [
       "<div>\n",
       "<style scoped>\n",
       "    .dataframe tbody tr th:only-of-type {\n",
       "        vertical-align: middle;\n",
       "    }\n",
       "\n",
       "    .dataframe tbody tr th {\n",
       "        vertical-align: top;\n",
       "    }\n",
       "\n",
       "    .dataframe thead th {\n",
       "        text-align: right;\n",
       "    }\n",
       "</style>\n",
       "<table border=\"1\" class=\"dataframe\">\n",
       "  <thead>\n",
       "    <tr style=\"text-align: right;\">\n",
       "      <th></th>\n",
       "      <th>Incident_code</th>\n",
       "      <th>Operational_Period</th>\n",
       "      <th>Control Objective</th>\n",
       "    </tr>\n",
       "  </thead>\n",
       "  <tbody>\n",
       "    <tr>\n",
       "      <th>0</th>\n",
       "      <td>CA-LNU-009502_County</td>\n",
       "      <td>07-04-2018</td>\n",
       "      <td></td>\n",
       "    </tr>\n",
       "    <tr>\n",
       "      <th>1</th>\n",
       "      <td>CA-LNU-009502_County</td>\n",
       "      <td>07-04-2018</td>\n",
       "      <td></td>\n",
       "    </tr>\n",
       "    <tr>\n",
       "      <th>2</th>\n",
       "      <td>CA-LNU-009502_County</td>\n",
       "      <td>07-04-2018</td>\n",
       "      <td>- Keep the fire South of Hamilton Canyon</td>\n",
       "    </tr>\n",
       "    <tr>\n",
       "      <th>3</th>\n",
       "      <td>CA-LNU-009502_County</td>\n",
       "      <td>07-04-2018</td>\n",
       "      <td>- Keep the fire North of Miller Canyon</td>\n",
       "    </tr>\n",
       "    <tr>\n",
       "      <th>4</th>\n",
       "      <td>CA-LNU-009502_County</td>\n",
       "      <td>07-04-2018</td>\n",
       "      <td>- Keep the fire East of Knoxville Road</td>\n",
       "    </tr>\n",
       "    <tr>\n",
       "      <th>5</th>\n",
       "      <td>CA-LNU-009502_County</td>\n",
       "      <td>07-04-2018</td>\n",
       "      <td>- Keep the fire West of Highway 16</td>\n",
       "    </tr>\n",
       "    <tr>\n",
       "      <th>6</th>\n",
       "      <td>CA-LNU-009502_County</td>\n",
       "      <td>07-04-2018</td>\n",
       "      <td></td>\n",
       "    </tr>\n",
       "    <tr>\n",
       "      <th>7</th>\n",
       "      <td>CA-LNU-009502_County</td>\n",
       "      <td>07-04-2018</td>\n",
       "      <td></td>\n",
       "    </tr>\n",
       "    <tr>\n",
       "      <th>8</th>\n",
       "      <td>CA-LNU-009502_County</td>\n",
       "      <td>07-04-2018</td>\n",
       "      <td></td>\n",
       "    </tr>\n",
       "    <tr>\n",
       "      <th>9</th>\n",
       "      <td>CA-LNU-009502_County</td>\n",
       "      <td>07-04-2018</td>\n",
       "      <td></td>\n",
       "    </tr>\n",
       "    <tr>\n",
       "      <th>10</th>\n",
       "      <td>CA-LNU-009502_County</td>\n",
       "      <td>07-04-2018</td>\n",
       "      <td></td>\n",
       "    </tr>\n",
       "    <tr>\n",
       "      <th>11</th>\n",
       "      <td>CA-LNU-009502_County</td>\n",
       "      <td>07-04-2018</td>\n",
       "      <td></td>\n",
       "    </tr>\n",
       "    <tr>\n",
       "      <th>0</th>\n",
       "      <td>CA-LNU-009502_County</td>\n",
       "      <td>07-04-2018</td>\n",
       "      <td></td>\n",
       "    </tr>\n",
       "    <tr>\n",
       "      <th>1</th>\n",
       "      <td>CA-LNU-009502_County</td>\n",
       "      <td>07-04-2018</td>\n",
       "      <td></td>\n",
       "    </tr>\n",
       "    <tr>\n",
       "      <th>2</th>\n",
       "      <td>CA-LNU-009502_County</td>\n",
       "      <td>07-04-2018</td>\n",
       "      <td>- Keep the fire South of Hamilton Canyon</td>\n",
       "    </tr>\n",
       "    <tr>\n",
       "      <th>3</th>\n",
       "      <td>CA-LNU-009502_County</td>\n",
       "      <td>07-04-2018</td>\n",
       "      <td>- Keep the fire North of Miller Canyon</td>\n",
       "    </tr>\n",
       "    <tr>\n",
       "      <th>4</th>\n",
       "      <td>CA-LNU-009502_County</td>\n",
       "      <td>07-04-2018</td>\n",
       "      <td>- Keep the fire East of Knoxville Road</td>\n",
       "    </tr>\n",
       "    <tr>\n",
       "      <th>5</th>\n",
       "      <td>CA-LNU-009502_County</td>\n",
       "      <td>07-04-2018</td>\n",
       "      <td>- Keep the fire West of Highway 16</td>\n",
       "    </tr>\n",
       "    <tr>\n",
       "      <th>6</th>\n",
       "      <td>CA-LNU-009502_County</td>\n",
       "      <td>07-04-2018</td>\n",
       "      <td></td>\n",
       "    </tr>\n",
       "    <tr>\n",
       "      <th>7</th>\n",
       "      <td>CA-LNU-009502_County</td>\n",
       "      <td>07-04-2018</td>\n",
       "      <td></td>\n",
       "    </tr>\n",
       "    <tr>\n",
       "      <th>8</th>\n",
       "      <td>CA-LNU-009502_County</td>\n",
       "      <td>07-04-2018</td>\n",
       "      <td></td>\n",
       "    </tr>\n",
       "    <tr>\n",
       "      <th>9</th>\n",
       "      <td>CA-LNU-009502_County</td>\n",
       "      <td>07-04-2018</td>\n",
       "      <td></td>\n",
       "    </tr>\n",
       "    <tr>\n",
       "      <th>10</th>\n",
       "      <td>CA-LNU-009502_County</td>\n",
       "      <td>07-04-2018</td>\n",
       "      <td></td>\n",
       "    </tr>\n",
       "    <tr>\n",
       "      <th>11</th>\n",
       "      <td>CA-LNU-009502_County</td>\n",
       "      <td>07-04-2018</td>\n",
       "      <td></td>\n",
       "    </tr>\n",
       "  </tbody>\n",
       "</table>\n",
       "</div>"
      ],
      "text/plain": [
       "           Incident_code Operational_Period  \\\n",
       "0   CA-LNU-009502_County         07-04-2018   \n",
       "1   CA-LNU-009502_County         07-04-2018   \n",
       "2   CA-LNU-009502_County         07-04-2018   \n",
       "3   CA-LNU-009502_County         07-04-2018   \n",
       "4   CA-LNU-009502_County         07-04-2018   \n",
       "5   CA-LNU-009502_County         07-04-2018   \n",
       "6   CA-LNU-009502_County         07-04-2018   \n",
       "7   CA-LNU-009502_County         07-04-2018   \n",
       "8   CA-LNU-009502_County         07-04-2018   \n",
       "9   CA-LNU-009502_County         07-04-2018   \n",
       "10  CA-LNU-009502_County         07-04-2018   \n",
       "11  CA-LNU-009502_County         07-04-2018   \n",
       "0   CA-LNU-009502_County         07-04-2018   \n",
       "1   CA-LNU-009502_County         07-04-2018   \n",
       "2   CA-LNU-009502_County         07-04-2018   \n",
       "3   CA-LNU-009502_County         07-04-2018   \n",
       "4   CA-LNU-009502_County         07-04-2018   \n",
       "5   CA-LNU-009502_County         07-04-2018   \n",
       "6   CA-LNU-009502_County         07-04-2018   \n",
       "7   CA-LNU-009502_County         07-04-2018   \n",
       "8   CA-LNU-009502_County         07-04-2018   \n",
       "9   CA-LNU-009502_County         07-04-2018   \n",
       "10  CA-LNU-009502_County         07-04-2018   \n",
       "11  CA-LNU-009502_County         07-04-2018   \n",
       "\n",
       "                           Control Objective  \n",
       "0                                             \n",
       "1                                             \n",
       "2   - Keep the fire South of Hamilton Canyon  \n",
       "3     - Keep the fire North of Miller Canyon  \n",
       "4     - Keep the fire East of Knoxville Road  \n",
       "5         - Keep the fire West of Highway 16  \n",
       "6                                             \n",
       "7                                             \n",
       "8                                             \n",
       "9                                             \n",
       "10                                            \n",
       "11                                            \n",
       "0                                             \n",
       "1                                             \n",
       "2   - Keep the fire South of Hamilton Canyon  \n",
       "3     - Keep the fire North of Miller Canyon  \n",
       "4     - Keep the fire East of Knoxville Road  \n",
       "5         - Keep the fire West of Highway 16  \n",
       "6                                             \n",
       "7                                             \n",
       "8                                             \n",
       "9                                             \n",
       "10                                            \n",
       "11                                            "
      ]
     },
     "execution_count": 55,
     "metadata": {},
     "output_type": "execute_result"
    }
   ],
   "source": [
    "IAP_DF.dropna()"
   ]
  },
  {
   "cell_type": "code",
   "execution_count": null,
   "metadata": {},
   "outputs": [],
   "source": []
  }
 ],
 "metadata": {
  "kernelspec": {
   "display_name": "Python 3",
   "language": "python",
   "name": "python3"
  },
  "language_info": {
   "codemirror_mode": {
    "name": "ipython",
    "version": 3
   },
   "file_extension": ".py",
   "mimetype": "text/x-python",
   "name": "python",
   "nbconvert_exporter": "python",
   "pygments_lexer": "ipython3",
   "version": "3.7.6"
  }
 },
 "nbformat": 4,
 "nbformat_minor": 4
}
